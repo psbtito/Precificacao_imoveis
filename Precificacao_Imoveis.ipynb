{
  "nbformat": 4,
  "nbformat_minor": 0,
  "metadata": {
    "colab": {
      "name": "Precificacao_Imoveis.ipynb",
      "provenance": [],
      "collapsed_sections": []
    },
    "kernelspec": {
      "name": "python3",
      "display_name": "Python 3"
    }
  },
  "cells": [
    {
      "cell_type": "markdown",
      "metadata": {
        "id": "lTVD_vDFWf1M",
        "colab_type": "text"
      },
      "source": [
        "# **MACHINE LEARNING - PRECIFICAÇÃO DE IMÓVEIS**\n",
        "\n",
        "*Definindo o problema:* Deseja-se entender quais características tem uma \n",
        "maior interferência no preço de um imóvel, bem como deseja-se construir um modelo que seja capaz de prever o valor de imóvel a partir de determinadas características. \n",
        "\n",
        "*Atributos:*\n",
        "1. id - ID exclusivo para cada casa vendida\n",
        "2. data - Data da venda da casa\n",
        "3. price - preço de cada casa vendida\n",
        "4. bedrooms - número de quartos\n",
        "5. bathrooms - Número de banheiros, em que 0,5 representa um quarto com um banheiro, mas sem chuveiro\n",
        "6. sqft_living - metragem quadrada do espaço interno do apartamento\n",
        "7. sqft_lot - metragem quadrada do espaço terrestre\n",
        "8. floors - Número de andares\n",
        "9. waterfront - Uma variável para saber se o apartamento estava com vista para a beira-mar ou não\n",
        "10. view - Um índice de 0 a 4 de quão boa foi a visualização da propriedade\n",
        "11. condition - um índice de 1 a 5 na condição do apartamento,\n",
        "12. grade - Um índice de 1 a 13, onde 1-3 fica aquém da construção e design dos edifícios, 7 tem um nível médio de construção e design e 11-13 têm um alto nível de qualidade de construção e design.\n",
        "13. sqft_above - A metragem quadrada do espaço interno da habitação que está acima do nível do solo\n",
        "14. sqft_basement - a metragem quadrada do espaço interno da habitação que fica abaixo do nível do solo\n",
        "15. yr_built - O ano em que a casa foi construída inicialmente\n",
        "16. yr_renovated - O ano da última reforma da casa\n",
        "17. zipcode - Em que área da casa está o CEP\n",
        "18. lat - Lattitude\n",
        "19. long - Longitude\n",
        "20. sqft_living15 - A metragem quadrada do espaço interno da habitação para os 15 vizinhos mais próximos\n",
        "21. sqft_lot15 - A metragem quadrada dos lotes dos 15 vizinhos mais próximos\n"
      ]
    },
    {
      "cell_type": "code",
      "metadata": {
        "id": "0prxEwYoWZna",
        "colab_type": "code",
        "colab": {
          "base_uri": "https://localhost:8080/",
          "height": 72
        },
        "outputId": "f9f4407a-68d9-4b03-c9af-7f867744fff6"
      },
      "source": [
        "#Package import\n",
        "import pandas as pd\n",
        "import numpy as np\n",
        "import matplotlib.pyplot as plt\n",
        "import seaborn as sns; sns.set(style=\"white\", color_codes=True)"
      ],
      "execution_count": 1,
      "outputs": [
        {
          "output_type": "stream",
          "text": [
            "/usr/local/lib/python3.6/dist-packages/statsmodels/tools/_testing.py:19: FutureWarning: pandas.util.testing is deprecated. Use the functions in the public API at pandas.testing instead.\n",
            "  import pandas.util.testing as tm\n"
          ],
          "name": "stderr"
        }
      ]
    },
    {
      "cell_type": "markdown",
      "metadata": {
        "id": "aCOOmp4TdVq_",
        "colab_type": "text"
      },
      "source": [
        "## **Data Loading**"
      ]
    },
    {
      "cell_type": "code",
      "metadata": {
        "id": "1TcZAqZ1W8ZG",
        "colab_type": "code",
        "colab": {}
      },
      "source": [
        "#Data Loading\n",
        "missing_values = ['n/D', 'N/D', 'NA','',  'na', '-', '?',' ? ', ' ', 'isnan']\n",
        "dfs = pd.read_csv('/content/house_prices.csv', na_values = missing_values);"
      ],
      "execution_count": 0,
      "outputs": []
    },
    {
      "cell_type": "code",
      "metadata": {
        "id": "yS84i9izXA5l",
        "colab_type": "code",
        "colab": {}
      },
      "source": [
        "#Info basics\n",
        "dfs.info();"
      ],
      "execution_count": 0,
      "outputs": []
    },
    {
      "cell_type": "code",
      "metadata": {
        "id": "boXKEz5vXKht",
        "colab_type": "code",
        "outputId": "3c07a6ca-c617-43b9-add1-3b653de5d525",
        "colab": {
          "base_uri": "https://localhost:8080/",
          "height": 159
        }
      },
      "source": [
        "dfs.head(3)"
      ],
      "execution_count": 19,
      "outputs": [
        {
          "output_type": "execute_result",
          "data": {
            "text/html": [
              "<div>\n",
              "<style scoped>\n",
              "    .dataframe tbody tr th:only-of-type {\n",
              "        vertical-align: middle;\n",
              "    }\n",
              "\n",
              "    .dataframe tbody tr th {\n",
              "        vertical-align: top;\n",
              "    }\n",
              "\n",
              "    .dataframe thead th {\n",
              "        text-align: right;\n",
              "    }\n",
              "</style>\n",
              "<table border=\"1\" class=\"dataframe\">\n",
              "  <thead>\n",
              "    <tr style=\"text-align: right;\">\n",
              "      <th></th>\n",
              "      <th>id</th>\n",
              "      <th>date</th>\n",
              "      <th>price</th>\n",
              "      <th>bedrooms</th>\n",
              "      <th>bathrooms</th>\n",
              "      <th>sqft_living</th>\n",
              "      <th>sqft_lot</th>\n",
              "      <th>floors</th>\n",
              "      <th>waterfront</th>\n",
              "      <th>view</th>\n",
              "      <th>condition</th>\n",
              "      <th>grade</th>\n",
              "      <th>sqft_above</th>\n",
              "      <th>sqft_basement</th>\n",
              "      <th>yr_built</th>\n",
              "      <th>yr_renovated</th>\n",
              "      <th>zipcode</th>\n",
              "      <th>lat</th>\n",
              "      <th>long</th>\n",
              "      <th>sqft_living15</th>\n",
              "      <th>sqft_lot15</th>\n",
              "      <th>age_imovel</th>\n",
              "    </tr>\n",
              "  </thead>\n",
              "  <tbody>\n",
              "    <tr>\n",
              "      <th>0</th>\n",
              "      <td>7129300520</td>\n",
              "      <td>20141013T000000</td>\n",
              "      <td>221900.0</td>\n",
              "      <td>3</td>\n",
              "      <td>1.00</td>\n",
              "      <td>1180</td>\n",
              "      <td>5650</td>\n",
              "      <td>1.0</td>\n",
              "      <td>0</td>\n",
              "      <td>0</td>\n",
              "      <td>3</td>\n",
              "      <td>7</td>\n",
              "      <td>1180</td>\n",
              "      <td>0</td>\n",
              "      <td>1955</td>\n",
              "      <td>2020</td>\n",
              "      <td>98178</td>\n",
              "      <td>47.5112</td>\n",
              "      <td>-122.257</td>\n",
              "      <td>1340</td>\n",
              "      <td>5650</td>\n",
              "      <td>65</td>\n",
              "    </tr>\n",
              "    <tr>\n",
              "      <th>1</th>\n",
              "      <td>6414100192</td>\n",
              "      <td>20141209T000000</td>\n",
              "      <td>538000.0</td>\n",
              "      <td>3</td>\n",
              "      <td>2.25</td>\n",
              "      <td>2570</td>\n",
              "      <td>7242</td>\n",
              "      <td>2.0</td>\n",
              "      <td>0</td>\n",
              "      <td>0</td>\n",
              "      <td>3</td>\n",
              "      <td>7</td>\n",
              "      <td>2170</td>\n",
              "      <td>400</td>\n",
              "      <td>1951</td>\n",
              "      <td>1991</td>\n",
              "      <td>98125</td>\n",
              "      <td>47.7210</td>\n",
              "      <td>-122.319</td>\n",
              "      <td>1690</td>\n",
              "      <td>7639</td>\n",
              "      <td>69</td>\n",
              "    </tr>\n",
              "    <tr>\n",
              "      <th>2</th>\n",
              "      <td>5631500400</td>\n",
              "      <td>20150225T000000</td>\n",
              "      <td>180000.0</td>\n",
              "      <td>2</td>\n",
              "      <td>1.00</td>\n",
              "      <td>770</td>\n",
              "      <td>10000</td>\n",
              "      <td>1.0</td>\n",
              "      <td>0</td>\n",
              "      <td>0</td>\n",
              "      <td>3</td>\n",
              "      <td>6</td>\n",
              "      <td>770</td>\n",
              "      <td>0</td>\n",
              "      <td>1933</td>\n",
              "      <td>2020</td>\n",
              "      <td>98028</td>\n",
              "      <td>47.7379</td>\n",
              "      <td>-122.233</td>\n",
              "      <td>2720</td>\n",
              "      <td>8062</td>\n",
              "      <td>87</td>\n",
              "    </tr>\n",
              "  </tbody>\n",
              "</table>\n",
              "</div>"
            ],
            "text/plain": [
              "           id             date     price  ...  sqft_living15  sqft_lot15  age_imovel\n",
              "0  7129300520  20141013T000000  221900.0  ...           1340        5650          65\n",
              "1  6414100192  20141209T000000  538000.0  ...           1690        7639          69\n",
              "2  5631500400  20150225T000000  180000.0  ...           2720        8062          87\n",
              "\n",
              "[3 rows x 22 columns]"
            ]
          },
          "metadata": {
            "tags": []
          },
          "execution_count": 19
        }
      ]
    },
    {
      "cell_type": "code",
      "metadata": {
        "id": "ARoZfbzpRGY8",
        "colab_type": "code",
        "colab": {}
      },
      "source": [
        "#New Feature\n",
        "dfs['age_imovel']=2020-dfs['yr_built']"
      ],
      "execution_count": 0,
      "outputs": []
    },
    {
      "cell_type": "code",
      "metadata": {
        "id": "fUiG0PgWXQIG",
        "colab_type": "code",
        "colab": {}
      },
      "source": [
        "#Describe \n",
        "description = dfs.describe()"
      ],
      "execution_count": 0,
      "outputs": []
    },
    {
      "cell_type": "code",
      "metadata": {
        "id": "3WtYOcdcXT0L",
        "colab_type": "code",
        "colab": {
          "base_uri": "https://localhost:8080/",
          "height": 98
        },
        "outputId": "57d04900-546d-484c-d437-825c447acfee"
      },
      "source": [
        "#Correlations Data\n",
        "correlation = dfs.corr()\n",
        "correlation.loc[['price'], :]"
      ],
      "execution_count": 23,
      "outputs": [
        {
          "output_type": "execute_result",
          "data": {
            "text/html": [
              "<div>\n",
              "<style scoped>\n",
              "    .dataframe tbody tr th:only-of-type {\n",
              "        vertical-align: middle;\n",
              "    }\n",
              "\n",
              "    .dataframe tbody tr th {\n",
              "        vertical-align: top;\n",
              "    }\n",
              "\n",
              "    .dataframe thead th {\n",
              "        text-align: right;\n",
              "    }\n",
              "</style>\n",
              "<table border=\"1\" class=\"dataframe\">\n",
              "  <thead>\n",
              "    <tr style=\"text-align: right;\">\n",
              "      <th></th>\n",
              "      <th>id</th>\n",
              "      <th>price</th>\n",
              "      <th>bedrooms</th>\n",
              "      <th>bathrooms</th>\n",
              "      <th>sqft_living</th>\n",
              "      <th>sqft_lot</th>\n",
              "      <th>floors</th>\n",
              "      <th>waterfront</th>\n",
              "      <th>view</th>\n",
              "      <th>condition</th>\n",
              "      <th>grade</th>\n",
              "      <th>sqft_above</th>\n",
              "      <th>sqft_basement</th>\n",
              "      <th>yr_built</th>\n",
              "      <th>yr_renovated</th>\n",
              "      <th>zipcode</th>\n",
              "      <th>lat</th>\n",
              "      <th>long</th>\n",
              "      <th>sqft_living15</th>\n",
              "      <th>sqft_lot15</th>\n",
              "      <th>age_imovel</th>\n",
              "    </tr>\n",
              "  </thead>\n",
              "  <tbody>\n",
              "    <tr>\n",
              "      <th>price</th>\n",
              "      <td>-0.016762</td>\n",
              "      <td>1.0</td>\n",
              "      <td>0.30835</td>\n",
              "      <td>0.525138</td>\n",
              "      <td>0.702035</td>\n",
              "      <td>0.089661</td>\n",
              "      <td>0.256794</td>\n",
              "      <td>0.266369</td>\n",
              "      <td>0.397293</td>\n",
              "      <td>0.036362</td>\n",
              "      <td>0.667434</td>\n",
              "      <td>0.605567</td>\n",
              "      <td>0.323816</td>\n",
              "      <td>0.054012</td>\n",
              "      <td>-0.081594</td>\n",
              "      <td>-0.053203</td>\n",
              "      <td>0.307003</td>\n",
              "      <td>0.021626</td>\n",
              "      <td>0.585379</td>\n",
              "      <td>0.082447</td>\n",
              "      <td>-0.054012</td>\n",
              "    </tr>\n",
              "  </tbody>\n",
              "</table>\n",
              "</div>"
            ],
            "text/plain": [
              "             id  price  bedrooms  ...  sqft_living15  sqft_lot15  age_imovel\n",
              "price -0.016762    1.0   0.30835  ...       0.585379    0.082447   -0.054012\n",
              "\n",
              "[1 rows x 21 columns]"
            ]
          },
          "metadata": {
            "tags": []
          },
          "execution_count": 23
        }
      ]
    },
    {
      "cell_type": "code",
      "metadata": {
        "id": "cHiesM3zrAVR",
        "colab_type": "code",
        "colab": {}
      },
      "source": [
        "'sqft_lot', 'condition', 'zipcode', 'long', 'sqft_lot15', 'age_imovel'"
      ],
      "execution_count": 0,
      "outputs": []
    },
    {
      "cell_type": "markdown",
      "metadata": {
        "id": "O9CrZO9aX_EQ",
        "colab_type": "text"
      },
      "source": [
        "## **ETL's**"
      ]
    },
    {
      "cell_type": "code",
      "metadata": {
        "id": "hOHDChnlYEmH",
        "colab_type": "code",
        "colab": {}
      },
      "source": [
        "#Remove columns desnecessarys\n",
        "dfs = dfs.drop(columns=['id', 'date', 'yr_renovated', 'yr_built'], axis=1)"
      ],
      "execution_count": 0,
      "outputs": []
    },
    {
      "cell_type": "code",
      "metadata": {
        "id": "EgfYQEHpZp_g",
        "colab_type": "code",
        "colab": {}
      },
      "source": [
        "#Analisando relação entre quantidade de quartos com preço\n",
        "dfs['bedrooms'].value_counts()\n",
        "sns.barplot(x='bedrooms', y='price', data=dfs);"
      ],
      "execution_count": 0,
      "outputs": []
    },
    {
      "cell_type": "code",
      "metadata": {
        "id": "6DvUUHKLZyHY",
        "colab_type": "code",
        "colab": {}
      },
      "source": [
        "#Analisando relação entre quantidade de banheiros com preço\n",
        "dfs['bathrooms'].value_counts()\n",
        "sns.barplot(x='bathrooms', y='price', data=dfs);"
      ],
      "execution_count": 0,
      "outputs": []
    },
    {
      "cell_type": "code",
      "metadata": {
        "id": "CSmn19ZxYdK_",
        "colab_type": "code",
        "colab": {}
      },
      "source": [
        "#Analisando relação entre quantidade de andares com preço\n",
        "dfs['floors'].value_counts()\n",
        "sns.barplot(x='floors', y='price', data=dfs);"
      ],
      "execution_count": 0,
      "outputs": []
    },
    {
      "cell_type": "code",
      "metadata": {
        "id": "kZ0UusUVZlDO",
        "colab_type": "code",
        "colab": {}
      },
      "source": [
        "#Analisando relação entre ter/ou ter vista para o mar com preço\n",
        "dfs['waterfront'].value_counts()\n",
        "sns.barplot(x='waterfront', y='price', data=dfs); #Ordinal"
      ],
      "execution_count": 0,
      "outputs": []
    },
    {
      "cell_type": "code",
      "metadata": {
        "id": "XrisHDG1aXsp",
        "colab_type": "code",
        "colab": {}
      },
      "source": [
        "#Analisando relação entre qualidade da visão do imóvel com preço\n",
        "dfs['view'].value_counts()\n",
        "sns.barplot(x='view', y='price', data=dfs); #Ordinal"
      ],
      "execution_count": 0,
      "outputs": []
    },
    {
      "cell_type": "code",
      "metadata": {
        "id": "tCEZ1jCmbFl6",
        "colab_type": "code",
        "colab": {}
      },
      "source": [
        "#Analisando relação entre a condição do imóvel com preço\n",
        "dfs['condition'].value_counts()\n",
        "sns.barplot(x='condition', y='price', data=dfs); #Ordinal"
      ],
      "execution_count": 0,
      "outputs": []
    },
    {
      "cell_type": "code",
      "metadata": {
        "id": "aJuPao8_goEV",
        "colab_type": "code",
        "colab": {}
      },
      "source": [
        "#Analisando relação entre a condição do imóvel com preço\n",
        "sns.jointplot(x=\"age_imovel\", y=\"price\", data=dfs, kind=\"reg\"); "
      ],
      "execution_count": 0,
      "outputs": []
    },
    {
      "cell_type": "code",
      "metadata": {
        "id": "A1tJ59r3brAg",
        "colab_type": "code",
        "colab": {}
      },
      "source": [
        "#Analisando relação entre a condição do imóvel com preço\n",
        "dfs['grade'].value_counts()\n",
        "sns.barplot(x='grade', y='price', data=dfs); #Ordem/peso"
      ],
      "execution_count": 0,
      "outputs": []
    },
    {
      "cell_type": "code",
      "metadata": {
        "id": "HGKbp7fLgco2",
        "colab_type": "code",
        "colab": {}
      },
      "source": [
        "#Transformar features\n",
        "bins = [0, 3, 6.9, 7, 10, np.inf]\n",
        "labels = ['ruim', 'satisfatorio', 'medio', 'otimo', 'excelente']\n",
        "#dfs['grade_value'] = pd.cut(dfs['grade'], bins=bins, labels=labels)"
      ],
      "execution_count": 0,
      "outputs": []
    },
    {
      "cell_type": "code",
      "metadata": {
        "id": "cBKTdjJawq9j",
        "colab_type": "code",
        "colab": {}
      },
      "source": [
        "df=dfs[['price', 'bedrooms', 'bathrooms', 'sqft_living',\n",
        "    'sqft_lot', 'floors', 'waterfront', 'view', 'condition', 'grade',\n",
        "    'sqft_above', 'sqft_basement', 'zipcode',\n",
        "    'lat', 'long', 'sqft_living15', 'sqft_lot15']]\n",
        "\n",
        "h = df.hist(bins=25, figsize=(16,16), xlabelsize='10', ylabelsize='10', xrot=-15)\n",
        "sns.despine(left=True, bottom=True)\n",
        "[x.title.set_size(12) for x in h.ravel()];\n",
        "[x.yaxis.tick_left() for x in h.ravel()];"
      ],
      "execution_count": 0,
      "outputs": []
    },
    {
      "cell_type": "code",
      "metadata": {
        "id": "USeHT1URqsoh",
        "colab_type": "code",
        "colab": {}
      },
      "source": [
        "data = dfs"
      ],
      "execution_count": 0,
      "outputs": []
    },
    {
      "cell_type": "markdown",
      "metadata": {
        "id": "gRJQPKQpccmB",
        "colab_type": "text"
      },
      "source": [
        "---------------------------------------------------------------"
      ]
    },
    {
      "cell_type": "markdown",
      "metadata": {
        "id": "f5Kn9FTnenF-",
        "colab_type": "text"
      },
      "source": [
        "## **Data sharing: features and target**"
      ]
    },
    {
      "cell_type": "code",
      "metadata": {
        "id": "CdZ7GwFGe__j",
        "colab_type": "code",
        "colab": {}
      },
      "source": [
        "features = ['bedrooms', 'bathrooms', 'sqft_living', \n",
        "            'waterfront', 'view', 'floors', 'grade', 'sqft_lot','sqft_above', \n",
        "            'condition', 'sqft_basement', 'zipcode', 'long', 'sqft_lot15', 'age_imovel']"
      ],
      "execution_count": 0,
      "outputs": []
    },
    {
      "cell_type": "markdown",
      "metadata": {
        "id": "4y4iKTcAdnq5",
        "colab_type": "text"
      },
      "source": [
        "## **Data sharing: training and testing**"
      ]
    },
    {
      "cell_type": "code",
      "metadata": {
        "id": "jquWdXA3dxmT",
        "colab_type": "code",
        "colab": {}
      },
      "source": [
        "from sklearn.model_selection import train_test_split\n",
        "train, test = train_test_split(data, test_size=0.2, random_state=3)"
      ],
      "execution_count": 0,
      "outputs": []
    },
    {
      "cell_type": "markdown",
      "metadata": {
        "id": "LNj5WLujeEqw",
        "colab_type": "text"
      },
      "source": [
        "##**Preprocessing of data**\n"
      ]
    },
    {
      "cell_type": "code",
      "metadata": {
        "id": "IJGyrP6PXLv7",
        "colab_type": "code",
        "colab": {}
      },
      "source": [
        "#Padronizar dos Dados \n",
        "from sklearn.preprocessing import StandardScaler\n",
        "scaler = StandardScaler()\n",
        "train = scaler.fit_transform(train)"
      ],
      "execution_count": 0,
      "outputs": []
    },
    {
      "cell_type": "markdown",
      "metadata": {
        "id": "2GzEHD9hgRmT",
        "colab_type": "text"
      },
      "source": [
        "## **Models Machile Learning**"
      ]
    },
    {
      "cell_type": "code",
      "metadata": {
        "id": "iv-4cA89YYaa",
        "colab_type": "code",
        "outputId": "b3a33b0b-4c7a-410f-8cf4-cf7bbaeaf16b",
        "colab": {
          "base_uri": "https://localhost:8080/",
          "height": 34
        }
      },
      "source": [
        "from sklearn.linear_model import LinearRegression\n",
        "linear_regres = LinearRegression()\n",
        "linear_regres.fit(train[features], train['price'])\n",
        "\n",
        "print(float(format(linear_regres.score(train[features], train['price']),'.5f')))"
      ],
      "execution_count": 137,
      "outputs": [
        {
          "output_type": "stream",
          "text": [
            "0.65353\n"
          ],
          "name": "stdout"
        }
      ]
    },
    {
      "cell_type": "code",
      "metadata": {
        "id": "ECOLHMmf03kN",
        "colab_type": "code",
        "colab": {}
      },
      "source": [
        "from sklearn.metrics import mean_absolute_error, mean_squared_error\n",
        "pred = linear_regres.predict(test[features])\n",
        "mean_absolute_error(test['price'], pred)"
      ],
      "execution_count": 0,
      "outputs": []
    },
    {
      "cell_type": "markdown",
      "metadata": {
        "id": "RKpNp9y_3qw7",
        "colab_type": "text"
      },
      "source": [
        "A Validação Cruzada é uma forma que testar como o modelo se comporta diante de dados que não foram usados no treinamento."
      ]
    },
    {
      "cell_type": "code",
      "metadata": {
        "id": "okxOCJeC3Rx5",
        "colab_type": "code",
        "colab": {
          "base_uri": "https://localhost:8080/",
          "height": 34
        },
        "outputId": "12c8650d-b62f-4766-c29c-38c245de47f5"
      },
      "source": [
        "from sklearn.model_selection import cross_val_score\n",
        "resultado = cross_val_score(linear_regres, test[features], test['price'], cv = 10)\n",
        "print(resultado.mean())"
      ],
      "execution_count": 176,
      "outputs": [
        {
          "output_type": "stream",
          "text": [
            "0.6497311092885811\n"
          ],
          "name": "stdout"
        }
      ]
    },
    {
      "cell_type": "markdown",
      "metadata": {
        "id": "Cck_nLVFGs5t",
        "colab_type": "text"
      },
      "source": [
        "### **Model Ridge**"
      ]
    },
    {
      "cell_type": "code",
      "metadata": {
        "id": "i_IsL504hoDt",
        "colab_type": "code",
        "outputId": "e65b4414-1049-4ecb-f94a-1109b1591c8d",
        "colab": {
          "base_uri": "https://localhost:8080/",
          "height": 34
        }
      },
      "source": [
        "from sklearn.linear_model import Ridge\n",
        "ridge_regres = Ridge(alpha=1)\n",
        "ridge_regres.fit(train[features], train['price'])\n",
        "\n",
        "print(float(format(ridge_regres.score(train[features], train['price']),'.5f')))"
      ],
      "execution_count": 177,
      "outputs": [
        {
          "output_type": "stream",
          "text": [
            "0.65353\n"
          ],
          "name": "stdout"
        }
      ]
    },
    {
      "cell_type": "code",
      "metadata": {
        "id": "-UN6ES_54l0I",
        "colab_type": "code",
        "colab": {
          "base_uri": "https://localhost:8080/",
          "height": 34
        },
        "outputId": "390a44e4-5d99-4bfa-9048-5e8e0e303353"
      },
      "source": [
        "from sklearn.model_selection import cross_val_score\n",
        "resultado = cross_val_score(ridge_regres, test[features], test['price'], cv = 10)\n",
        "print(resultado.mean())"
      ],
      "execution_count": 180,
      "outputs": [
        {
          "output_type": "stream",
          "text": [
            "0.6498594910560686\n"
          ],
          "name": "stdout"
        }
      ]
    },
    {
      "cell_type": "markdown",
      "metadata": {
        "id": "9grdwcTKHjh8",
        "colab_type": "text"
      },
      "source": [
        "### **Model Polynomial**"
      ]
    },
    {
      "cell_type": "code",
      "metadata": {
        "id": "DTx6NRUOhMej",
        "colab_type": "code",
        "outputId": "1f7d2770-9f9f-46a9-f414-8f1d6fb67a9d",
        "colab": {
          "base_uri": "https://localhost:8080/",
          "height": 34
        }
      },
      "source": [
        "from sklearn.preprocessing import PolynomialFeatures\n",
        "poly_features = PolynomialFeatures(degree=2)\n",
        "trainpoly = poly_features.fit_transform(train[features])\n",
        "poly_regres = LinearRegression().fit(trainpoly, train['price'])\n",
        "\n",
        "print(float(format(poly_regres.score(trainpoly, train['price']),'.5f')))"
      ],
      "execution_count": 178,
      "outputs": [
        {
          "output_type": "stream",
          "text": [
            "0.75535\n"
          ],
          "name": "stdout"
        }
      ]
    },
    {
      "cell_type": "code",
      "metadata": {
        "id": "r4YrJKTI4ti3",
        "colab_type": "code",
        "colab": {
          "base_uri": "https://localhost:8080/",
          "height": 34
        },
        "outputId": "468c1842-574d-4949-aa02-da5dec32eb8d"
      },
      "source": [
        "from sklearn.model_selection import cross_val_score\n",
        "resultado = cross_val_score(poly_regres, test[features], test['price'], cv = 10)\n",
        "print(resultado.mean())"
      ],
      "execution_count": 181,
      "outputs": [
        {
          "output_type": "stream",
          "text": [
            "0.6497311092885811\n"
          ],
          "name": "stdout"
        }
      ]
    }
  ]
}